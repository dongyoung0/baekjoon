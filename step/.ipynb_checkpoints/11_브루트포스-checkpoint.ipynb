{
 "cells": [
  {
   "cell_type": "markdown",
   "metadata": {
    "ExecuteTime": {
     "end_time": "2021-11-11T07:32:28.623039Z",
     "start_time": "2021-11-11T07:32:28.620082Z"
    }
   },
   "source": [
    "# 1. 블랙잭(2798)"
   ]
  },
  {
   "cell_type": "markdown",
   "metadata": {},
   "source": [
    "### 문제\n",
    "카지노에서 제일 인기 있는 게임 블랙잭의 규칙은 상당히 쉽다. 카드의 합이 21을 넘지 않는 한도 내에서, 카드의 합을 최대한 크게 만드는 게임이다. 블랙잭은 카지노마다 다양한 규정이 있다.\n",
    "\n",
    "한국 최고의 블랙잭 고수 김정인은 새로운 블랙잭 규칙을 만들어 상근, 창영이와 게임하려고 한다.\n",
    "\n",
    "김정인 버전의 블랙잭에서 각 카드에는 양의 정수가 쓰여 있다. 그 다음, 딜러는 N장의 카드를 모두 숫자가 보이도록 바닥에 놓는다. 그런 후에 딜러는 숫자 M을 크게 외친다.\n",
    "\n",
    "이제 플레이어는 제한된 시간 안에 N장의 카드 중에서 3장의 카드를 골라야 한다. 블랙잭 변형 게임이기 때문에, 플레이어가 고른 카드의 합은 M을 넘지 않으면서 M과 최대한 가깝게 만들어야 한다.\n",
    "\n",
    "N장의 카드에 써져 있는 숫자가 주어졌을 때, M을 넘지 않으면서 M에 최대한 가까운 카드 3장의 합을 구해 출력하시오.\n",
    "\n",
    "### 입력\n",
    "첫째 줄에 카드의 개수 N(3 ≤ N ≤ 100)과 M(10 ≤ M ≤ 300,000)이 주어진다. 둘째 줄에는 카드에 쓰여 있는 수가 주어지며, 이 값은 100,000을 넘지 않는 양의 정수이다.\n",
    "\n",
    "합이 M을 넘지 않는 카드 3장을 찾을 수 있는 경우만 입력으로 주어진다.\n",
    "\n",
    "### 출력\n",
    "첫째 줄에 M을 넘지 않으면서 M에 최대한 가까운 카드 3장의 합을 출력한다.\n",
    "\n",
    "#### 예제 입력 1 \n",
    "5 21  \n",
    "5 6 7 8 9\n",
    "#### 예제 출력 1 \n",
    "21"
   ]
  },
  {
   "cell_type": "code",
   "execution_count": 24,
   "metadata": {
    "ExecuteTime": {
     "end_time": "2021-11-11T07:45:05.688124Z",
     "start_time": "2021-11-11T07:45:00.224111Z"
    }
   },
   "outputs": [
    {
     "name": "stdout",
     "output_type": "stream",
     "text": [
      "10 500\n",
      "93 181 245 214 315 36 185 138 216 295\n",
      "497\n"
     ]
    }
   ],
   "source": [
    "N, M = map(int, input().split())\n",
    "num_list = list(map(int, input().split()))\n",
    "ans = 0\n",
    "for i in range(N-2):\n",
    "    for j in range(i+1, N-1):\n",
    "        for k in range(j+1, N):\n",
    "            score = num_list[i] + num_list[j] + num_list[k]\n",
    "            if score <= M:\n",
    "                ans = max(ans, score)\n",
    "print(ans)"
   ]
  },
  {
   "cell_type": "code",
   "execution_count": 20,
   "metadata": {
    "ExecuteTime": {
     "end_time": "2021-11-11T07:42:55.129916Z",
     "start_time": "2021-11-11T07:42:55.122957Z"
    },
    "collapsed": true
   },
   "outputs": [
    {
     "name": "stdout",
     "output_type": "stream",
     "text": [
      "0 1 2\n",
      "0 1 3\n",
      "0 1 4\n",
      "0 2 3\n",
      "0 2 4\n",
      "0 3 4\n",
      "1 2 3\n",
      "1 2 4\n",
      "1 3 4\n",
      "2 3 4\n"
     ]
    }
   ],
   "source": [
    "10 500\n",
    "93 181 245 214 315 36 185 138 216 295\n",
    "예제 출력 2 \n",
    "497:"
   ]
  },
  {
   "cell_type": "markdown",
   "metadata": {},
   "source": [
    "# 2. 분해합(2231)"
   ]
  },
  {
   "cell_type": "markdown",
   "metadata": {},
   "source": [
    "### 문제\n",
    "어떤 자연수 N이 있을 때, 그 자연수 N의 분해합은 N과 N을 이루는 각 자리수의 합을 의미한다. 어떤 자연수 M의 분해합이 N인 경우, M을 N의 생성자라 한다. 예를 들어, 245의 분해합은 256(=245+2+4+5)이 된다. 따라서 245는 256의 생성자가 된다. 물론, 어떤 자연수의 경우에는 생성자가 없을 수도 있다. 반대로, 생성자가 여러 개인 자연수도 있을 수 있다.\n",
    "\n",
    "자연수 N이 주어졌을 때, N의 가장 작은 생성자를 구해내는 프로그램을 작성하시오.\n",
    "\n",
    "### 입력\n",
    "첫째 줄에 자연수 N(1 ≤ N ≤ 1,000,000)이 주어진다.\n",
    "\n",
    "### 출력\n",
    "첫째 줄에 답을 출력한다. 생성자가 없는 경우에는 0을 출력한다.\n",
    "\n",
    "#### 예제 입력 1 \n",
    "216\n",
    "#### 예제 출력 1 \n",
    "198"
   ]
  },
  {
   "cell_type": "code",
   "execution_count": 51,
   "metadata": {
    "ExecuteTime": {
     "end_time": "2021-11-11T07:56:48.360523Z",
     "start_time": "2021-11-11T07:56:47.520868Z"
    }
   },
   "outputs": [
    {
     "name": "stdout",
     "output_type": "stream",
     "text": [
      "101\n",
      "91\n"
     ]
    }
   ],
   "source": [
    "N = int(input())\n",
    "ans = 0\n",
    "for num in range(1, N+1):\n",
    "    div_sum = num\n",
    "    for n in str(num):\n",
    "        div_sum += int(n)\n",
    "    if div_sum == N:\n",
    "        ans = num\n",
    "        break\n",
    "print(ans)"
   ]
  },
  {
   "cell_type": "code",
   "execution_count": 52,
   "metadata": {
    "ExecuteTime": {
     "end_time": "2021-11-11T07:57:59.502301Z",
     "start_time": "2021-11-11T07:57:59.495321Z"
    }
   },
   "outputs": [
    {
     "name": "stdout",
     "output_type": "stream",
     "text": [
      "100 101\n",
      "101 103\n",
      "102 105\n",
      "103 107\n",
      "104 109\n",
      "105 111\n",
      "106 113\n",
      "107 115\n",
      "108 117\n"
     ]
    }
   ],
   "source": [
    "# 중복 분해합 확인\n",
    "div_list = []\n",
    "for num in range(200):\n",
    "    div_sum = num\n",
    "    for n in str(num):\n",
    "        div_sum += int(n)\n",
    "    if div_sum in div_list:\n",
    "        print(num, div_sum)\n",
    "    div_list.append(div_sum)"
   ]
  },
  {
   "cell_type": "markdown",
   "metadata": {},
   "source": [
    "# 3. 덩치(7568)"
   ]
  },
  {
   "cell_type": "markdown",
   "metadata": {},
   "source": [
    "### 문제\n",
    "우리는 사람의 덩치를 키와 몸무게, 이 두 개의 값으로 표현하여 그 등수를 매겨보려고 한다. 어떤 사람의 몸무게가 x kg이고 키가 y cm라면 이 사람의 덩치는 (x, y)로 표시된다. 두 사람 A 와 B의 덩치가 각각 (x, y), (p, q)라고 할 때 x > p 그리고 y > q 이라면 우리는 A의 덩치가 B의 덩치보다 \"더 크다\"고 말한다. 예를 들어 어떤 A, B 두 사람의 덩치가 각각 (56, 177), (45, 165) 라고 한다면 A의 덩치가 B보다 큰 셈이 된다. 그런데 서로 다른 덩치끼리 크기를 정할 수 없는 경우도 있다. 예를 들어 두 사람 C와 D의 덩치가 각각 (45, 181), (55, 173)이라면 몸무게는 D가 C보다 더 무겁고, 키는 C가 더 크므로, \"덩치\"로만 볼 때 C와 D는 누구도 상대방보다 더 크다고 말할 수 없다.\n",
    "\n",
    "N명의 집단에서 각 사람의 덩치 등수는 자신보다 더 \"큰 덩치\"의 사람의 수로 정해진다. 만일 자신보다 더 큰 덩치의 사람이 k명이라면 그 사람의 덩치 등수는 k+1이 된다. 이렇게 등수를 결정하면 같은 덩치 등수를 가진 사람은 여러 명도 가능하다. 아래는 5명으로 이루어진 집단에서 각 사람의 덩치와 그 등수가 표시된 표이다.\n",
    "\n",
    "|이름|(몸무게, 키)|덩치 등수|\n",
    "|--|--|--|\n",
    "|A|(55, 185)|2|\n",
    "|B|(58, 183)|2|\n",
    "|C|(88, 186)|1|\n",
    "|D|(60, 175)|2|\n",
    "|E|(46, 155)|5|  \n",
    "\n",
    "위 표에서 C보다 더 큰 덩치의 사람이 없으므로 C는 1등이 된다. 그리고 A, B, D 각각의 덩치보다 큰 사람은 C뿐이므로 이들은 모두 2등이 된다. 그리고 E보다 큰 덩치는 A, B, C, D 이렇게 4명이므로 E의 덩치는 5등이 된다. 위 경우에 3등과 4등은 존재하지 않는다. 여러분은 학생 N명의 몸무게와 키가 담긴 입력을 읽어서 각 사람의 덩치 등수를 계산하여 출력해야 한다.\n",
    "\n",
    "### 입력\n",
    "첫 줄에는 전체 사람의 수 N이 주어진다. 그리고 이어지는 N개의 줄에는 각 사람의 몸무게와 키를 나타내는 양의 정수 x와 y가 하나의 공백을 두고 각각 나타난다.\n",
    "\n",
    "### 출력\n",
    "여러분은 입력에 나열된 사람의 덩치 등수를 구해서 그 순서대로 첫 줄에 출력해야 한다. 단, 각 덩치 등수는 공백문자로 분리되어야 한다.\n",
    "\n",
    "### 제한\n",
    "2 ≤ N ≤ 50\n",
    "10 ≤ x, y ≤ 200\n",
    "#### 예제 입력 1 \n",
    "5  \n",
    "55 185  \n",
    "58 183  \n",
    "88 186  \n",
    "60 175  \n",
    "46 155  \n",
    "\n",
    "#### 예제 출력 1 \n",
    "2 2 1 2 5"
   ]
  },
  {
   "cell_type": "code",
   "execution_count": 74,
   "metadata": {
    "ExecuteTime": {
     "end_time": "2021-11-11T08:30:54.696917Z",
     "start_time": "2021-11-11T08:30:38.242564Z"
    }
   },
   "outputs": [
    {
     "name": "stdout",
     "output_type": "stream",
     "text": [
      "5\n",
      "55 185\n",
      "58 183\n",
      "88 186\n",
      "60 175\n",
      "46 155\n",
      "2 2 1 2 5 "
     ]
    }
   ],
   "source": [
    "N = int(input())\n",
    "size = []\n",
    "for _ in range(N):\n",
    "    size.append(list(map(int, input().split())))\n",
    "    \n",
    "rank = []\n",
    "for a in size:\n",
    "    cnt = 1\n",
    "    for b in size:\n",
    "        if a[0] < b[0] and a[1] < b[1]:\n",
    "            cnt += 1\n",
    "    rank.append(cnt)\n",
    "    \n",
    "for r in rank:\n",
    "    print(r,end=\" \")    "
   ]
  },
  {
   "cell_type": "markdown",
   "metadata": {},
   "source": [
    "# 4. 체스판 다시 칠하기(1018)"
   ]
  },
  {
   "cell_type": "markdown",
   "metadata": {},
   "source": [
    "### 문제\n",
    "지민이는 자신의 저택에서 MN개의 단위 정사각형으로 나누어져 있는 M×N 크기의 보드를 찾았다. 어떤 정사각형은 검은색으로 칠해져 있고, 나머지는 흰색으로 칠해져 있다. 지민이는 이 보드를 잘라서 8×8 크기의 체스판으로 만들려고 한다.\n",
    "\n",
    "체스판은 검은색과 흰색이 번갈아서 칠해져 있어야 한다. 구체적으로, 각 칸이 검은색과 흰색 중 하나로 색칠되어 있고, 변을 공유하는 두 개의 사각형은 다른 색으로 칠해져 있어야 한다. 따라서 이 정의를 따르면 체스판을 색칠하는 경우는 두 가지뿐이다. 하나는 맨 왼쪽 위 칸이 흰색인 경우, 하나는 검은색인 경우이다.\n",
    "\n",
    "보드가 체스판처럼 칠해져 있다는 보장이 없어서, 지민이는 8×8 크기의 체스판으로 잘라낸 후에 몇 개의 정사각형을 다시 칠해야겠다고 생각했다. 당연히 8*8 크기는 아무데서나 골라도 된다. 지민이가 다시 칠해야 하는 정사각형의 최소 개수를 구하는 프로그램을 작성하시오.\n",
    "\n",
    "### 입력\n",
    "첫째 줄에 N과 M이 주어진다. N과 M은 8보다 크거나 같고, 50보다 작거나 같은 자연수이다. 둘째 줄부터 N개의 줄에는 보드의 각 행의 상태가 주어진다. B는 검은색이며, W는 흰색이다.\n",
    "\n",
    "### 출력\n",
    "첫째 줄에 지민이가 다시 칠해야 하는 정사각형 개수의 최솟값을 출력한다.\n",
    "\n",
    "#### 예제 입력 2\n",
    "10 13  \n",
    "BBBBBBBBWBWBW  \n",
    "BBBBBBBBBWBWB  \n",
    "BBBBBBBBWBWBW  \n",
    "BBBBBBBBBWBWB  \n",
    "BBBBBBBBWBWBW  \n",
    "BBBBBBBBBWBWB  \n",
    "BBBBBBBBWBWBW  \n",
    "BBBBBBBBBWBWB  \n",
    "WWWWWWWWWWBWB  \n",
    "WWWWWWWWWWBWB  \n",
    "\n",
    "#### 예제 출력 2 \n",
    "12"
   ]
  },
  {
   "cell_type": "code",
   "execution_count": 3,
   "metadata": {
    "ExecuteTime": {
     "end_time": "2021-11-12T03:11:31.728075Z",
     "start_time": "2021-11-12T03:10:55.124025Z"
    }
   },
   "outputs": [
    {
     "name": "stdout",
     "output_type": "stream",
     "text": [
      "10 10\n",
      "BBBBBBBBBB\n",
      "BBWBWBWBWB\n",
      "BWBWBWBWBB\n",
      "BBWBWBWBWB\n",
      "BWBWBWBWBB\n",
      "BBWBWBWBWB\n",
      "BWBWBWBWBB\n",
      "BBWBWBWBWB\n",
      "BWBWBWBWBB\n",
      "BBBBBBBBBB\n",
      "0\n"
     ]
    }
   ],
   "source": [
    "# 흑 백 분리\n",
    "N, M = map(int, input().split())\n",
    "board = []\n",
    "for _ in range(N):\n",
    "    board.append(input())\n",
    "    \n",
    "ans = 8*8\n",
    "for n in range(N-7):\n",
    "    for m in range(M-7):\n",
    "        b_cnt = 0\n",
    "        w_cnt = 0\n",
    "        for i in range(8):\n",
    "            for j in range(8):\n",
    "                if (i+j)%2 == 0:\n",
    "                    if board[n+i][m+j] != 'B':\n",
    "                        b_cnt += 1\n",
    "                    else:\n",
    "                        w_cnt += 1\n",
    "                else:\n",
    "                    if board[n+i][m+j] == 'B':\n",
    "                        b_cnt += 1\n",
    "                    else:\n",
    "                        w_cnt += 1\n",
    "        cnt = min(b_cnt, w_cnt)\n",
    "        ans = min(ans, cnt)\n",
    "print(ans)"
   ]
  },
  {
   "cell_type": "markdown",
   "metadata": {},
   "source": [
    "# 5. 영화감독 숌(1436)"
   ]
  },
  {
   "cell_type": "markdown",
   "metadata": {},
   "source": [
    "### 문제\n",
    "666은 종말을 나타내는 숫자라고 한다. 따라서, 많은 블록버스터 영화에서는 666이 들어간 제목을 많이 사용한다. 영화감독 숌은 세상의 종말 이라는 시리즈 영화의 감독이다. 조지 루카스는 스타워즈를 만들 때, 스타워즈 1, 스타워즈 2, 스타워즈 3, 스타워즈 4, 스타워즈 5, 스타워즈 6과 같이 이름을 지었고, 피터 잭슨은 반지의 제왕을 만들 때, 반지의 제왕 1, 반지의 제왕 2, 반지의 제왕 3과 같이 영화 제목을 지었다.\n",
    "\n",
    "하지만 숌은 자신이 조지 루카스와 피터 잭슨을 뛰어넘는다는 것을 보여주기 위해서 영화 제목을 좀 다르게 만들기로 했다.\n",
    "\n",
    "종말의 숫자란 어떤 수에 6이 적어도 3개이상 연속으로 들어가는 수를 말한다. 제일 작은 종말의 숫자는 666이고, 그 다음으로 큰 수는 1666, 2666, 3666, .... 과 같다.\n",
    "\n",
    "따라서, 숌은 첫 번째 영화의 제목은 세상의 종말 666, 두 번째 영화의 제목은 세상의 종말 1666 이렇게 이름을 지을 것이다. 일반화해서 생각하면, N번째 영화의 제목은 세상의 종말 (N번째로 작은 종말의 숫자) 와 같다.\n",
    "\n",
    "숌이 만든 N번째 영화의 제목에 들어간 숫자를 출력하는 프로그램을 작성하시오. 숌은 이 시리즈를 항상 차례대로 만들고, 다른 영화는 만들지 않는다.\n",
    "\n",
    "### 입력\n",
    "첫째 줄에 숫자 N이 주어진다. N은 10,000보다 작거나 같은 자연수이다.\n",
    "\n",
    "### 출력\n",
    "첫째 줄에 N번째 영화의 제목에 들어간 수를 출력한다.\n",
    "\n",
    "#### 예제 입력 1 \n",
    "2\n",
    "#### 예제 출력 1 \n",
    "1666"
   ]
  },
  {
   "cell_type": "code",
   "execution_count": 14,
   "metadata": {
    "ExecuteTime": {
     "end_time": "2021-11-12T03:17:50.252609Z",
     "start_time": "2021-11-12T03:17:49.203191Z"
    }
   },
   "outputs": [
    {
     "name": "stdout",
     "output_type": "stream",
     "text": [
      "500\n",
      "166699\n"
     ]
    }
   ],
   "source": [
    "N = int(input())\n",
    "cnt = 0\n",
    "num = 666\n",
    "while True:\n",
    "    if '666' in str(num):\n",
    "        cnt += 1\n",
    "        if cnt == N:\n",
    "            print(num)\n",
    "            break\n",
    "    num += 1\n",
    "        "
   ]
  },
  {
   "cell_type": "code",
   "execution_count": null,
   "metadata": {},
   "outputs": [],
   "source": []
  }
 ],
 "metadata": {
  "kernelspec": {
   "display_name": "Python 3",
   "language": "python",
   "name": "python3"
  },
  "language_info": {
   "codemirror_mode": {
    "name": "ipython",
    "version": 3
   },
   "file_extension": ".py",
   "mimetype": "text/x-python",
   "name": "python",
   "nbconvert_exporter": "python",
   "pygments_lexer": "ipython3",
   "version": "3.7.4"
  },
  "toc": {
   "base_numbering": 1,
   "nav_menu": {},
   "number_sections": true,
   "sideBar": true,
   "skip_h1_title": false,
   "title_cell": "Table of Contents",
   "title_sidebar": "Contents",
   "toc_cell": false,
   "toc_position": {},
   "toc_section_display": true,
   "toc_window_display": false
  },
  "varInspector": {
   "cols": {
    "lenName": 16,
    "lenType": 16,
    "lenVar": 40
   },
   "kernels_config": {
    "python": {
     "delete_cmd_postfix": "",
     "delete_cmd_prefix": "del ",
     "library": "var_list.py",
     "varRefreshCmd": "print(var_dic_list())"
    },
    "r": {
     "delete_cmd_postfix": ") ",
     "delete_cmd_prefix": "rm(",
     "library": "var_list.r",
     "varRefreshCmd": "cat(var_dic_list()) "
    }
   },
   "types_to_exclude": [
    "module",
    "function",
    "builtin_function_or_method",
    "instance",
    "_Feature"
   ],
   "window_display": false
  }
 },
 "nbformat": 4,
 "nbformat_minor": 2
}
